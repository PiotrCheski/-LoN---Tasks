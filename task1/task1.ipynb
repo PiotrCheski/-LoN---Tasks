{
 "cells": [
  {
   "cell_type": "code",
   "execution_count": 89,
   "id": "0cc4c6a5-f326-4f0f-8ba3-32a12e701e87",
   "metadata": {},
   "outputs": [
    {
     "name": "stdout",
     "output_type": "stream",
     "text": [
      "Rectangle scores:\n",
      "Rectangle 1: 0\n",
      "Rectangle 2: 0\n",
      "Rectangle 3: 1\n"
     ]
    }
   ],
   "source": [
    "import cv2\n",
    "import numpy as np\n",
    "\n",
    "image1 = cv2.imread(\"img000.jpg\")\n",
    "image2 = cv2.imread(\"images/img001.jpeg\")\n",
    "\n",
    "difference = cv2.subtract(image1, image2)\n",
    "\n",
    "Conv_hsv_Gray = cv2.cvtColor(difference, cv2.COLOR_BGR2GRAY)\n",
    "ret, mask = cv2.threshold(Conv_hsv_Gray, 0, 255, cv2.THRESH_BINARY_INV | cv2.THRESH_OTSU)\n",
    "\n",
    "difference[mask != 255] = [0, 0, 255]\n",
    "image1[mask != 255] = [0, 0, 255]\n",
    "image2[mask != 255] = [0, 0, 255]\n",
    "\n",
    "rectangles = [\n",
    "    (70, 50, 210, 460),   # Rectangle 1\n",
    "    (290, 50, 160, 460),  # Rectangle 2\n",
    "    (460, 50, 180, 460)   # Rectangle 3\n",
    "]\n",
    "\n",
    "rectangles_score = {\n",
    "    \"(70, 50, 210, 460)\": 0,\n",
    "    \"(290, 50, 160, 460)\": 0,\n",
    "    \"(460, 50, 180, 460)\": 0\n",
    "}\n",
    "\n",
    "labels = {\n",
    "    \"(70, 50, 210, 460)\": \"Rectangle 1\",\n",
    "    \"(290, 50, 160, 460)\": \"Rectangle 2\",\n",
    "    \"(460, 50, 180, 460)\": \"Rectangle 3\"\n",
    "}\n",
    "\n",
    "for (x, y, w, h) in rectangles:\n",
    "    roi_difference = difference[y:y+h, x:x+w]\n",
    "    red_pixels = np.all(roi_difference == [0, 0, 255], axis=-1)\n",
    "    if np.any(red_pixels):\n",
    "        rectangles_score[f\"({x}, {y}, {w}, {h})\"] += 1\n",
    "\n",
    "for (x, y, w, h) in rectangles:\n",
    "    color = (0, 255, 0) if rectangles_score[f\"({x}, {y}, {w}, {h})\"] > 0 else (255, 0, 0)  # Green if detected, Red otherwise\n",
    "    cv2.rectangle(image1, (x, y), (x+w, y+h), color, 2)\n",
    "    cv2.rectangle(image2, (x, y), (x+w, y+h), color, 2)\n",
    "\n",
    "cv2.imwrite('diffOverImage2.png', image2)\n",
    "\n",
    "# Print the scores with labels\n",
    "print(\"Rectangle scores:\")\n",
    "for key, score in rectangles_score.items():\n",
    "    print(f\"{labels[key]}: {score}\")\n"
   ]
  },
  {
   "cell_type": "code",
   "execution_count": null,
   "id": "b9c28e2f-7bf8-4f78-8ae5-df353233d47a",
   "metadata": {},
   "outputs": [],
   "source": []
  },
  {
   "cell_type": "code",
   "execution_count": null,
   "id": "d0181738-c17a-4ec3-b6fc-a73949e8e89b",
   "metadata": {},
   "outputs": [],
   "source": []
  }
 ],
 "metadata": {
  "kernelspec": {
   "display_name": "Python 3 (ipykernel)",
   "language": "python",
   "name": "python3"
  },
  "language_info": {
   "codemirror_mode": {
    "name": "ipython",
    "version": 3
   },
   "file_extension": ".py",
   "mimetype": "text/x-python",
   "name": "python",
   "nbconvert_exporter": "python",
   "pygments_lexer": "ipython3",
   "version": "3.12.5"
  }
 },
 "nbformat": 4,
 "nbformat_minor": 5
}
