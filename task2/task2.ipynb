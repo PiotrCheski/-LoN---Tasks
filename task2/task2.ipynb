{
 "cells": [
  {
   "cell_type": "code",
   "execution_count": 10,
   "id": "01a7a3ab-97dd-405c-a055-5724b70baaca",
   "metadata": {},
   "outputs": [
    {
     "name": "stdout",
     "output_type": "stream",
     "text": [
      "['0065-0136670531', '0065-0136651817', '0065-0136659459', '0065-0136653169', '0065-0136667521', '0065-0136655780', '0065-0136661759', '0065-0136665886', '0065-0136660676', '0065-0136673193', '0065-0136671473', '0065-0136659288']\n",
      "['PHASE 1 dark', 'PHASE 1 light', 'PHASE 2 dark', 'PHASE 2 light', 'PHASE 3 dark', 'PHASE 3 light']\n"
     ]
    }
   ],
   "source": [
    "from load_data import data, mice, phases\n",
    "\n",
    "# List of animals in experiment\n",
    "print(list(mice))\n",
    "\n",
    "# experiment phases\n",
    "print(phases.sections())\n",
    "# start, end of each phase (as Unix time - https://en.wikipedia.org/wiki/Unix_time)\n",
    "for phase in phases.sections():\n",
    "    pass\n",
    "    #print(phases.gettime(phase))\n",
    "    \n",
    "# Visits of a mouse to the rooms during one phase can be accesed like that:\n",
    "phase = 'PHASE 1 dark'\n",
    "mouse = list(mice)[0]\n",
    "data.unmask_data()\n",
    "data.mask_data(*phases.gettime(phase))\n",
    "# Because of masking only visits starting in the given phase are returned.\n",
    "start_times = data.getstarttimes(mouse)\n",
    "end_times = data.getendtimes(mouse)\n",
    "room_numbers = data.getaddresses(mouse)\n",
    "\n",
    "for st, en, room in zip(start_times, end_times, room_numbers):\n",
    "    pass\n",
    "    #print(\"visit to room %d, starting %f, ending %f\" %(room, st, en))\n",
    "\n"
   ]
  },
  {
   "cell_type": "code",
   "execution_count": 5,
   "id": "9d4018e2-49bc-4983-881f-4482cd1915e4",
   "metadata": {},
   "outputs": [
    {
     "name": "stdout",
     "output_type": "stream",
     "text": [
      "Processing PHASE 1 dark...\n",
      "Processing PHASE 1 light...\n",
      "Processing PHASE 2 dark...\n",
      "Processing PHASE 2 light...\n",
      "Processing PHASE 3 dark...\n",
      "Processing PHASE 3 light...\n",
      "Results saved to room_time.csv and pair_time.csv.\n"
     ]
    }
   ],
   "source": [
    "import csv\n",
    "from load_data import data, mice, phases\n",
    "\n",
    "room_time = {mouse: {room: 0 for room in range(1, 5)} for mouse in mice}\n",
    "pair_time = {}\n",
    "\n",
    "for phase in phases.sections():\n",
    "    print(f\"Processing {phase}...\")\n",
    "    data.unmask_data()\n",
    "    data.mask_data(*phases.gettime(phase))\n",
    "    \n",
    "    mouse_visits = {}\n",
    "    \n",
    "    for mouse in mice:\n",
    "        start_times = data.getstarttimes(mouse)\n",
    "        end_times = data.getendtimes(mouse)\n",
    "        room_numbers = data.getaddresses(mouse)\n",
    "        \n",
    "        visits = []\n",
    "        for st, en, room in zip(start_times, end_times, room_numbers):\n",
    "            visit_duration = en - st\n",
    "            room_time[mouse][room] += visit_duration\n",
    "            visits.append((st, en, room))\n",
    "        \n",
    "        mouse_visits[mouse] = visits\n",
    "    \n",
    "    for i, mouse1 in enumerate(mice):\n",
    "        for mouse2 in list(mice)[i+1:]:\n",
    "            pair_key = (mouse1, mouse2)\n",
    "            pair_time[pair_key] = 0\n",
    "            \n",
    "            for st1, en1, room1 in mouse_visits[mouse1]:\n",
    "                for st2, en2, room2 in mouse_visits[mouse2]:\n",
    "                    if room1 == room2:\n",
    "                        overlap_start = max(st1, st2)\n",
    "                        overlap_end = min(en1, en2)\n",
    "                        if overlap_start < overlap_end:\n",
    "                            pair_time[pair_key] += overlap_end - overlap_start\n",
    "\n",
    "def format_time(seconds):\n",
    "    hours = seconds // 3600\n",
    "    minutes = (seconds % 3600) // 60\n",
    "    seconds = seconds % 60\n",
    "    return f\"{hours}h {minutes}m {seconds}s\"\n",
    "    \n",
    "with open('room_time.csv', 'w', newline='') as csvfile:\n",
    "    fieldnames = ['Mouse', 'Room', 'Time Spent']\n",
    "    writer = csv.DictWriter(csvfile, fieldnames=fieldnames)\n",
    "    writer.writeheader()\n",
    "    \n",
    "    for mouse, rooms in room_time.items():\n",
    "        for room, time in rooms.items():\n",
    "            formatted_time = format_time(time)\n",
    "            writer.writerow({'Mouse': mouse, 'Room': room, 'Time Spent': formatted_time})\n",
    "\n",
    "with open('pair_time.csv', 'w', newline='') as csvfile:\n",
    "    fieldnames = ['Mouse 1', 'Mouse 2', 'Time Together']\n",
    "    writer = csv.DictWriter(csvfile, fieldnames=fieldnames)\n",
    "    writer.writeheader()\n",
    "    \n",
    "    for (mouse1, mouse2), time in pair_time.items():\n",
    "        formatted_time = format_time(time)\n",
    "        writer.writerow({'Mouse 1': mouse1, 'Mouse 2': mouse2, 'Time Together': formatted_time})\n",
    "\n",
    "print(\"Results saved to room_time.csv and pair_time.csv.\")\n"
   ]
  },
  {
   "cell_type": "code",
   "execution_count": null,
   "id": "24817b4a-2f44-4878-8068-2b6e6be9aaa8",
   "metadata": {},
   "outputs": [],
   "source": []
  }
 ],
 "metadata": {
  "kernelspec": {
   "display_name": "Python 3 (ipykernel)",
   "language": "python",
   "name": "python3"
  },
  "language_info": {
   "codemirror_mode": {
    "name": "ipython",
    "version": 3
   },
   "file_extension": ".py",
   "mimetype": "text/x-python",
   "name": "python",
   "nbconvert_exporter": "python",
   "pygments_lexer": "ipython3",
   "version": "3.12.5"
  }
 },
 "nbformat": 4,
 "nbformat_minor": 5
}
